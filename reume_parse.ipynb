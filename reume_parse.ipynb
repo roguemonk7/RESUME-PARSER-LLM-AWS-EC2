{
 "cells": [
  {
   "cell_type": "code",
   "execution_count": 4,
   "id": "a8bb9060",
   "metadata": {},
   "outputs": [
    {
     "data": {
      "text/plain": [
       "True"
      ]
     },
     "execution_count": 4,
     "metadata": {},
     "output_type": "execute_result"
    }
   ],
   "source": [
    "from dotenv import load_dotenv\n",
    "\n",
    "load_dotenv('././.env')"
   ]
  },
  {
   "cell_type": "code",
   "execution_count": null,
   "id": "60901649",
   "metadata": {},
   "outputs": [],
   "source": [
    "from langchain_ollama import ChatOllama\n",
    "from langchain_core.prompts import (SystemMessagePromptTemplate,\n",
    "                                    HumanMessagePromptTemplate, ChatPromptTemplate)\n",
    "\n",
    "from langchain_core.output_parsers import StrOutputParser, JsonOutputParser\n",
    "\n",
    "load_dotenv(\"./../.env\")\n",
    "\n",
    "base_url = \"http://localhost:11434\"\n",
    "model = \"llama3.2:3b\"\n",
    "\n",
    "llm = ChatOllama(model=model, base_url=base_url)   "
   ]
  },
  {
   "cell_type": "code",
   "execution_count": 5,
   "id": "c2cdd1a4",
   "metadata": {},
   "outputs": [],
   "source": [
    "from langchain_community.document_loaders import PyMuPDFLoader"
   ]
  },
  {
   "cell_type": "code",
   "execution_count": 52,
   "id": "b6a9ed67",
   "metadata": {},
   "outputs": [],
   "source": [
    "# filename = \"Beam Resume Template - Google Docs.pdf\"\n",
    "filename = \"Engineering_Industrial_Tech_Resume.pdf\""
   ]
  },
  {
   "cell_type": "code",
   "execution_count": 53,
   "id": "3d654126",
   "metadata": {},
   "outputs": [],
   "source": [
    "loader = PyMuPDFLoader('resume/{}'.format(filename))\n",
    "docs = loader.load()"
   ]
  },
  {
   "cell_type": "code",
   "execution_count": 54,
   "id": "40594a75",
   "metadata": {},
   "outputs": [
    {
     "name": "stdout",
     "output_type": "stream",
     "text": [
      "First Last Name\n",
      "Hammond, LA • 555-555-5555 • first.last@selu.edu • issuu.com/eengineersample\n",
      "SUMMARY OF QUALIFICATIONS\n",
      "●\n",
      "Experienced in designing solutions for environmental problems that require integration of environmental and human health\n",
      "constraints compatible with economic growth, sustainable development, and ethical standards\n",
      "●\n",
      "Proficient with a variety of modeling and drafting software including AutoCAD and ALGOR\n",
      "●\n",
      "Efficiently manage projects and collaborate with teams to accelerate the overarching goals of the company\n",
      "EDUCATION\n",
      "Southeastern Louisiana University – Hammond, LA\n",
      "May 2024\n",
      "Bachelor of Science in Engineering Technology\n",
      "Concentration: Electrical Energy Engineering\n",
      "Cumulative GPA: 3.75/4.00\n",
      "Relevant Coursework: Introduction to Programming, Electrical Circuits, Electromagnetics, Programming for Technologists\n",
      "TECHNICAL PROFICIENCIES\n",
      "Modeling Programs: ALGOR, eQUEST, and EnergyPro (LEED project with a VRF system)\n",
      "Drafting Software: AutoCAD, AutoCAD LT\n",
      "RELEVANT EXPERIENCE\n",
      "American Pollution Control Corp.\n",
      "June 2023 – August 2023\n",
      "Environmental Engineering Intern – Chalmette, LA\n",
      "●\n",
      "Inspected sites and performed detailed monitoring of industrial pollution control measures with an environmental engineer\n",
      "based on the state and local regulations\n",
      "●\n",
      "Served on a committee dedicated to designing and implementing a new wastewater treatment system\n",
      "●\n",
      "Investigated environmental projects onsite with a team of 3 engineers\n",
      "Cargill\n",
      "May 2022 – August 2022\n",
      "Engineer Intern – Breaux Bridge, LA\n",
      "●\n",
      "Researched building code items, materials, and similar building plans for 2 large commercial projects in New Orleans\n",
      "●\n",
      "Reviewed building plans with engineering and design teams to evaluate for ADA compliance\n",
      "●\n",
      "Collaborated with a team of 7 to research and identify suitable locations to install groundwater dams\n",
      "RELEVANT PROJECT EXPERIENCE\n",
      "Group Project, Senior Design Course – Hammond, LA\n",
      "January – March 2023\n",
      "●\n",
      "Collaborated with 5-person team tasked with developing an action plan for addressing societal, environmental, regulatory,\n",
      "and economic constraints related to a local wastewater project\n",
      "●\n",
      "Researched client needs and developed a solutions-based layout to best suit functionality requirements\n",
      "●\n",
      "Served as project leader by organizing team meetings, tracking progress, and providing a forum for discussion\n",
      "MEMBERSHIPS AND ASSOCIATIONS\n",
      "The National Association of Environmental Professionals – Baton Rouge, LA\n",
      "January 2020 – Present\n",
      "Louisiana Association of Environmental Professionals ( LAEP) – Baton Rouge, LA\n",
      "August 2020 – Present\n",
      "CAMPUS INVOLVEMENT\n",
      "Co-Captain, SLU Tennis Team – Hammond, LA\n",
      "August 2020 – May 2023\n",
      "●\n",
      "Instrumental in team motivation, encouragement, and success\n",
      "Member, Beta Gamma Sigma, SLU – Hammond, LA\n",
      "December 2019 – December 2020\n",
      "●\n",
      "International Honor Society\n"
     ]
    }
   ],
   "source": [
    "print(docs[0].page_content)"
   ]
  },
  {
   "cell_type": "code",
   "execution_count": 55,
   "id": "543c34f4",
   "metadata": {},
   "outputs": [],
   "source": [
    "context = docs[0].page_content\n",
    "\n",
    "question = \"\"\"You are tasked with parsing a job resume.Your goal is to extract relevant information in a valid structured 'JSON' format.\n",
    "            Do not write preambles or explanations. \"\"\""
   ]
  },
  {
   "cell_type": "code",
   "execution_count": 56,
   "id": "673690e1",
   "metadata": {},
   "outputs": [],
   "source": [
    "from scripts.llm import ask_llm, validate_json"
   ]
  },
  {
   "cell_type": "code",
   "execution_count": 57,
   "id": "21d8ce77",
   "metadata": {},
   "outputs": [],
   "source": [
    "response = ask_llm(context=context, question=question)"
   ]
  },
  {
   "cell_type": "code",
   "execution_count": 58,
   "id": "f24c4c51",
   "metadata": {},
   "outputs": [],
   "source": [
    "response = validate_json(response)"
   ]
  },
  {
   "cell_type": "code",
   "execution_count": 59,
   "id": "c00f9183",
   "metadata": {},
   "outputs": [
    {
     "name": "stdout",
     "output_type": "stream",
     "text": [
      "{'ContactInformation': {'Name': 'First Last', 'Email': 'first.last@selu.edu', 'Phone Number': '555-555-5555', 'Website/Portfolio': 'issuu.com/eengineersample'}, 'Education': {'Institution Name': 'Southeastern Louisiana University', 'Degree': 'Bachelor of Science in Engineering Technology', 'Field of Study': 'Electrical Energy Engineering', 'Graduation Year': '2024'}, 'WorkExperience': [{'Job Title': 'Environmental Engineer Intern', 'Company Name': 'American Pollution Control Corp.', 'Location': 'Chalmette, LA', 'Dates of Employment': 'June 2023 - August 2023', 'Responsibilities/Projects': ['Inspected sites and performed detailed monitoring of industrial pollution control measures with an environmental engineer based on state and local regulations', 'Served on a committee dedicated to designing and implementing a new wastewater treatment system', 'Investigated environmental projects onsite with a team of 3 engineers']}, {'Job Title': 'Engineer Intern', 'Company Name': 'Cargill', 'Location': 'Breaux Bridge, LA', 'Dates of Employment': 'May 2022 - August 2022', 'Responsibilities/Projects': ['Research building code items, materials, and similar building plans for 2 large commercial projects in New Orleans', 'Reviewed building plans with engineering and design teams to evaluate for ADA compliance', 'Collaborated with a team of 7 to research and identify suitable locations to install groundwater dams']}], 'Projects': [{'Project Title': 'Group Project, Senior Design Course', 'Description/Technologies Used': '', 'Outcomes/Results': ''}, {'Project Title': 'LEED project with a VRF system', 'Description/Technologies Used': 'EnergyPro (LEED)', 'Outcomes/Results': ''}], 'Skills': {'Programming Languages': ['ALGORITHM'], 'Tools/Technologies': ['AutoCAD', 'AutoCAD LT', 'eQUEST', 'EnergyPro']}, 'AdditionalInformation': {'Certifications': '', 'Awards or Honors': '', 'Professional Affiliations': ['The National Association of Environmental Professionals', 'Louisiana Association of Environmental Professionals (LAEP)'], 'Languages': ''}}\n"
     ]
    }
   ],
   "source": [
    "print(response)"
   ]
  },
  {
   "cell_type": "code",
   "execution_count": 60,
   "id": "bdb661a3",
   "metadata": {},
   "outputs": [],
   "source": [
    "import json\n",
    "\n",
    "output_file = filename.replace('.pdf','.json')\n",
    "output_file =  'parsed_resume/{}'.format(output_file)\n",
    "\n",
    "json.dump(response, open(output_file,'w'), indent =4)\n",
    "\n"
   ]
  }
 ],
 "metadata": {
  "kernelspec": {
   "display_name": "ml",
   "language": "python",
   "name": "python3"
  },
  "language_info": {
   "codemirror_mode": {
    "name": "ipython",
    "version": 3
   },
   "file_extension": ".py",
   "mimetype": "text/x-python",
   "name": "python",
   "nbconvert_exporter": "python",
   "pygments_lexer": "ipython3",
   "version": "3.12.4"
  }
 },
 "nbformat": 4,
 "nbformat_minor": 5
}
